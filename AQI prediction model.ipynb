{
  "metadata": {
    "kernelspec": {
      "name": "python",
      "display_name": "Python (Pyodide)",
      "language": "python"
    },
    "language_info": {
      "codemirror_mode": {
        "name": "python",
        "version": 3
      },
      "file_extension": ".py",
      "mimetype": "text/x-python",
      "name": "python",
      "nbconvert_exporter": "python",
      "pygments_lexer": "ipython3",
      "version": "3.8"
    }
  },
  "nbformat_minor": 5,
  "nbformat": 4,
  "cells": [
    {
      "id": "98e87d67-8df1-4ac0-a388-9ce44f2657fb",
      "cell_type": "markdown",
      "source": "#### AQI Prediction Model using Python",
      "metadata": {}
    },
    {
      "id": "73974da2-1eed-422a-b5b8-39a2b7d884b5",
      "cell_type": "markdown",
      "source": "- PM2.5 PM10\n- NO, NO2\n- NH3-Ammonia\n- CO\n- So2\n- O3\n- Benzene, Toluene, Xylene\n",
      "metadata": {}
    },
    {
      "id": "e95a2df7-5541-44da-a89f-dfb5b330be2a",
      "cell_type": "code",
      "source": "pip install numpy pandas matplotlib seaborn scikit-learn",
      "metadata": {
        "trusted": true
      },
      "outputs": [],
      "execution_count": null
    },
    {
      "id": "c92da68a-89b5-4fe9-adb2-ff60d6c3fedd",
      "cell_type": "code",
      "source": "# Importing  necessary libraries\nimport numpy as np\nimport pandas as pd\nimport matplotlib.pyplot as plt\nimport seaborn as sns\nfrom warnings import filterwarnings\nfilterwarnings ('ignore')",
      "metadata": {
        "trusted": true
      },
      "outputs": [
        {
          "ename": "<class 'ModuleNotFoundError'>",
          "evalue": "No module named 'seaborn'",
          "traceback": [
            "\u001b[0;31m---------------------------------------------------------------------------\u001b[0m",
            "\u001b[0;31mModuleNotFoundError\u001b[0m                       Traceback (most recent call last)",
            "Cell \u001b[0;32mIn[3], line 5\u001b[0m\n\u001b[1;32m      3\u001b[0m \u001b[38;5;28;01mimport\u001b[39;00m \u001b[38;5;21;01mpandas\u001b[39;00m \u001b[38;5;28;01mas\u001b[39;00m \u001b[38;5;21;01mpd\u001b[39;00m\n\u001b[1;32m      4\u001b[0m \u001b[38;5;28;01mimport\u001b[39;00m \u001b[38;5;21;01mmatplotlib\u001b[39;00m\u001b[38;5;21;01m.\u001b[39;00m\u001b[38;5;21;01mpyplot\u001b[39;00m \u001b[38;5;28;01mas\u001b[39;00m \u001b[38;5;21;01mplt\u001b[39;00m\n\u001b[0;32m----> 5\u001b[0m \u001b[38;5;28;01mimport\u001b[39;00m \u001b[38;5;21;01mseaborn\u001b[39;00m \u001b[38;5;28;01mas\u001b[39;00m \u001b[38;5;21;01msns\u001b[39;00m\n\u001b[1;32m      6\u001b[0m \u001b[38;5;28;01mfrom\u001b[39;00m \u001b[38;5;21;01mwarnings\u001b[39;00m \u001b[38;5;28;01mimport\u001b[39;00m filterwarnings\n\u001b[1;32m      7\u001b[0m filterwarnings (\u001b[38;5;124m'\u001b[39m\u001b[38;5;124mignore\u001b[39m\u001b[38;5;124m'\u001b[39m)\n",
            "\u001b[0;31mModuleNotFoundError\u001b[0m: No module named 'seaborn'"
          ],
          "output_type": "error"
        }
      ],
      "execution_count": 3
    },
    {
      "id": "d5391ca2-171c-445a-a51f-ab3e7ab9d3bc",
      "cell_type": "code",
      "source": "df=pd.read_csv('air quality data.csv')\ndf.head() # Top 5 rows!",
      "metadata": {
        "trusted": true,
        "scrolled": true
      },
      "outputs": [
        {
          "execution_count": 4,
          "output_type": "execute_result",
          "data": {
            "text/plain": "        City        Date  PM2.5  PM10     NO    NO2    NOx  NH3     CO    SO2  \\\n0  Ahmedabad  2015-01-01    NaN   NaN   0.92  18.22  17.15  NaN   0.92  27.64   \n1  Ahmedabad  2015-01-02    NaN   NaN   0.97  15.69  16.46  NaN   0.97  24.55   \n2  Ahmedabad  2015-01-03    NaN   NaN  17.40  19.30  29.70  NaN  17.40  29.07   \n3  Ahmedabad  2015-01-04    NaN   NaN   1.70  18.48  17.97  NaN   1.70  18.59   \n4  Ahmedabad  2015-01-05    NaN   NaN  22.10  21.42  37.76  NaN  22.10  39.33   \n\n       O3  Benzene  Toluene  Xylene  AQI AQI_Bucket  \n0  133.36     0.00     0.02    0.00  NaN        NaN  \n1   34.06     3.68     5.50    3.77  NaN        NaN  \n2   30.70     6.80    16.40    2.25  NaN        NaN  \n3   36.08     4.43    10.14    1.00  NaN        NaN  \n4   39.31     7.01    18.89    2.78  NaN        NaN  ",
            "text/html": "<div>\n<style scoped>\n    .dataframe tbody tr th:only-of-type {\n        vertical-align: middle;\n    }\n\n    .dataframe tbody tr th {\n        vertical-align: top;\n    }\n\n    .dataframe thead th {\n        text-align: right;\n    }\n</style>\n<table border=\"1\" class=\"dataframe\">\n  <thead>\n    <tr style=\"text-align: right;\">\n      <th></th>\n      <th>City</th>\n      <th>Date</th>\n      <th>PM2.5</th>\n      <th>PM10</th>\n      <th>NO</th>\n      <th>NO2</th>\n      <th>NOx</th>\n      <th>NH3</th>\n      <th>CO</th>\n      <th>SO2</th>\n      <th>O3</th>\n      <th>Benzene</th>\n      <th>Toluene</th>\n      <th>Xylene</th>\n      <th>AQI</th>\n      <th>AQI_Bucket</th>\n    </tr>\n  </thead>\n  <tbody>\n    <tr>\n      <th>0</th>\n      <td>Ahmedabad</td>\n      <td>2015-01-01</td>\n      <td>NaN</td>\n      <td>NaN</td>\n      <td>0.92</td>\n      <td>18.22</td>\n      <td>17.15</td>\n      <td>NaN</td>\n      <td>0.92</td>\n      <td>27.64</td>\n      <td>133.36</td>\n      <td>0.00</td>\n      <td>0.02</td>\n      <td>0.00</td>\n      <td>NaN</td>\n      <td>NaN</td>\n    </tr>\n    <tr>\n      <th>1</th>\n      <td>Ahmedabad</td>\n      <td>2015-01-02</td>\n      <td>NaN</td>\n      <td>NaN</td>\n      <td>0.97</td>\n      <td>15.69</td>\n      <td>16.46</td>\n      <td>NaN</td>\n      <td>0.97</td>\n      <td>24.55</td>\n      <td>34.06</td>\n      <td>3.68</td>\n      <td>5.50</td>\n      <td>3.77</td>\n      <td>NaN</td>\n      <td>NaN</td>\n    </tr>\n    <tr>\n      <th>2</th>\n      <td>Ahmedabad</td>\n      <td>2015-01-03</td>\n      <td>NaN</td>\n      <td>NaN</td>\n      <td>17.40</td>\n      <td>19.30</td>\n      <td>29.70</td>\n      <td>NaN</td>\n      <td>17.40</td>\n      <td>29.07</td>\n      <td>30.70</td>\n      <td>6.80</td>\n      <td>16.40</td>\n      <td>2.25</td>\n      <td>NaN</td>\n      <td>NaN</td>\n    </tr>\n    <tr>\n      <th>3</th>\n      <td>Ahmedabad</td>\n      <td>2015-01-04</td>\n      <td>NaN</td>\n      <td>NaN</td>\n      <td>1.70</td>\n      <td>18.48</td>\n      <td>17.97</td>\n      <td>NaN</td>\n      <td>1.70</td>\n      <td>18.59</td>\n      <td>36.08</td>\n      <td>4.43</td>\n      <td>10.14</td>\n      <td>1.00</td>\n      <td>NaN</td>\n      <td>NaN</td>\n    </tr>\n    <tr>\n      <th>4</th>\n      <td>Ahmedabad</td>\n      <td>2015-01-05</td>\n      <td>NaN</td>\n      <td>NaN</td>\n      <td>22.10</td>\n      <td>21.42</td>\n      <td>37.76</td>\n      <td>NaN</td>\n      <td>22.10</td>\n      <td>39.33</td>\n      <td>39.31</td>\n      <td>7.01</td>\n      <td>18.89</td>\n      <td>2.78</td>\n      <td>NaN</td>\n      <td>NaN</td>\n    </tr>\n  </tbody>\n</table>\n</div>"
          },
          "metadata": {}
        }
      ],
      "execution_count": 4
    },
    {
      "id": "f3ab2d52-fb81-4dcd-bf43-f910513831f8",
      "cell_type": "code",
      "source": "# Shape - rows and cols!\ndf.shape",
      "metadata": {
        "trusted": true
      },
      "outputs": [
        {
          "execution_count": 5,
          "output_type": "execute_result",
          "data": {
            "text/plain": "(29531, 16)"
          },
          "metadata": {}
        }
      ],
      "execution_count": 5
    },
    {
      "id": "4e5a8f6b-184a-4399-b251-f3c8a27679f6",
      "cell_type": "code",
      "source": "# Information\ndf.info()",
      "metadata": {
        "trusted": true
      },
      "outputs": [
        {
          "name": "stdout",
          "output_type": "stream",
          "text": "<class 'pandas.core.frame.DataFrame'>\nRangeIndex: 29531 entries, 0 to 29530\nData columns (total 16 columns):\n #   Column      Non-Null Count  Dtype  \n---  ------      --------------  -----  \n 0   City        29531 non-null  object \n 1   Date        29531 non-null  object \n 2   PM2.5       24933 non-null  float64\n 3   PM10        18391 non-null  float64\n 4   NO          25949 non-null  float64\n 5   NO2         25946 non-null  float64\n 6   NOx         25346 non-null  float64\n 7   NH3         19203 non-null  float64\n 8   CO          27472 non-null  float64\n 9   SO2         25677 non-null  float64\n 10  O3          25509 non-null  float64\n 11  Benzene     23908 non-null  float64\n 12  Toluene     21490 non-null  float64\n 13  Xylene      11422 non-null  float64\n 14  AQI         24850 non-null  float64\n 15  AQI_Bucket  24850 non-null  object \ndtypes: float64(13), object(3)\nmemory usage: 3.3+ MB\n"
        }
      ],
      "execution_count": 6
    },
    {
      "id": "b8c83a94-4bd9-4bd7-a37a-ab6ca2b3af5b",
      "cell_type": "code",
      "source": "# to know the duplicate values\ndf.duplicated().sum()",
      "metadata": {
        "trusted": true
      },
      "outputs": [
        {
          "execution_count": 9,
          "output_type": "execute_result",
          "data": {
            "text/plain": "np.int64(0)"
          },
          "metadata": {}
        }
      ],
      "execution_count": 9
    },
    {
      "id": "3846e224-e934-43d3-9934-775d16824978",
      "cell_type": "code",
      "source": "# To check missing values\ndf.isnull().sum()",
      "metadata": {
        "trusted": true
      },
      "outputs": [
        {
          "execution_count": 10,
          "output_type": "execute_result",
          "data": {
            "text/plain": "City              0\nDate              0\nPM2.5          4598\nPM10          11140\nNO             3582\nNO2            3585\nNOx            4185\nNH3           10328\nCO             2059\nSO2            3854\nO3             4022\nBenzene        5623\nToluene        8041\nXylene        18109\nAQI            4681\nAQI_Bucket     4681\ndtype: int64"
          },
          "metadata": {}
        }
      ],
      "execution_count": 10
    },
    {
      "id": "c5310767-a11c-4902-8fc0-9493369b7b24",
      "cell_type": "code",
      "source": "# Drop the rows where 'AQI' has missing values\ndf.dropna(subset=['AQI'],inplace = True)",
      "metadata": {
        "trusted": true
      },
      "outputs": [],
      "execution_count": null
    },
    {
      "id": "86fcf763-5f46-4fef-b9b0-d9ad9b8c9db8",
      "cell_type": "code",
      "source": "df.isnull().sum().sort_values(ascending=False)",
      "metadata": {
        "trusted": true
      },
      "outputs": [
        {
          "execution_count": 11,
          "output_type": "execute_result",
          "data": {
            "text/plain": "Xylene        18109\nPM10          11140\nNH3           10328\nToluene        8041\nBenzene        5623\nAQI            4681\nAQI_Bucket     4681\nPM2.5          4598\nNOx            4185\nO3             4022\nSO2            3854\nNO2            3585\nNO             3582\nCO             2059\nCity              0\nDate              0\ndtype: int64"
          },
          "metadata": {}
        }
      ],
      "execution_count": 11
    },
    {
      "id": "ad0e8303-627d-4931-a2d7-930a1dad0941",
      "cell_type": "code",
      "source": "df.shape",
      "metadata": {
        "trusted": true
      },
      "outputs": [
        {
          "execution_count": 12,
          "output_type": "execute_result",
          "data": {
            "text/plain": "(29531, 16)"
          },
          "metadata": {}
        }
      ],
      "execution_count": 12
    },
    {
      "id": "9d0a47f5-126e-4a3d-aa11-34ec4203d681",
      "cell_type": "code",
      "source": "#summary of statistics in the dataset\ndf.describe().T",
      "metadata": {
        "trusted": true
      },
      "outputs": [
        {
          "execution_count": 14,
          "output_type": "execute_result",
          "data": {
            "text/plain": "           count        mean         std    min     25%     50%       75%  \\\nPM2.5    24933.0   67.450578   64.661449   0.04  28.820   48.57   80.5900   \nPM10     18391.0  118.127103   90.605110   0.01  56.255   95.68  149.7450   \nNO       25949.0   17.574730   22.785846   0.02   5.630    9.89   19.9500   \nNO2      25946.0   28.560659   24.474746   0.01  11.750   21.69   37.6200   \nNOx      25346.0   32.309123   31.646011   0.00  12.820   23.52   40.1275   \nNH3      19203.0   23.483476   25.684275   0.01   8.580   15.85   30.0200   \nCO       27472.0    2.248598    6.962884   0.00   0.510    0.89    1.4500   \nSO2      25677.0   14.531977   18.133775   0.01   5.670    9.16   15.2200   \nO3       25509.0   34.491430   21.694928   0.01  18.860   30.84   45.5700   \nBenzene  23908.0    3.280840   15.811136   0.00   0.120    1.07    3.0800   \nToluene  21490.0    8.700972   19.969164   0.00   0.600    2.97    9.1500   \nXylene   11422.0    3.070128    6.323247   0.00   0.140    0.98    3.3500   \nAQI      24850.0  166.463581  140.696585  13.00  81.000  118.00  208.0000   \n\n             max  \nPM2.5     949.99  \nPM10     1000.00  \nNO        390.68  \nNO2       362.21  \nNOx       467.63  \nNH3       352.89  \nCO        175.81  \nSO2       193.86  \nO3        257.73  \nBenzene   455.03  \nToluene   454.85  \nXylene    170.37  \nAQI      2049.00  ",
            "text/html": "<div>\n<style scoped>\n    .dataframe tbody tr th:only-of-type {\n        vertical-align: middle;\n    }\n\n    .dataframe tbody tr th {\n        vertical-align: top;\n    }\n\n    .dataframe thead th {\n        text-align: right;\n    }\n</style>\n<table border=\"1\" class=\"dataframe\">\n  <thead>\n    <tr style=\"text-align: right;\">\n      <th></th>\n      <th>count</th>\n      <th>mean</th>\n      <th>std</th>\n      <th>min</th>\n      <th>25%</th>\n      <th>50%</th>\n      <th>75%</th>\n      <th>max</th>\n    </tr>\n  </thead>\n  <tbody>\n    <tr>\n      <th>PM2.5</th>\n      <td>24933.0</td>\n      <td>67.450578</td>\n      <td>64.661449</td>\n      <td>0.04</td>\n      <td>28.820</td>\n      <td>48.57</td>\n      <td>80.5900</td>\n      <td>949.99</td>\n    </tr>\n    <tr>\n      <th>PM10</th>\n      <td>18391.0</td>\n      <td>118.127103</td>\n      <td>90.605110</td>\n      <td>0.01</td>\n      <td>56.255</td>\n      <td>95.68</td>\n      <td>149.7450</td>\n      <td>1000.00</td>\n    </tr>\n    <tr>\n      <th>NO</th>\n      <td>25949.0</td>\n      <td>17.574730</td>\n      <td>22.785846</td>\n      <td>0.02</td>\n      <td>5.630</td>\n      <td>9.89</td>\n      <td>19.9500</td>\n      <td>390.68</td>\n    </tr>\n    <tr>\n      <th>NO2</th>\n      <td>25946.0</td>\n      <td>28.560659</td>\n      <td>24.474746</td>\n      <td>0.01</td>\n      <td>11.750</td>\n      <td>21.69</td>\n      <td>37.6200</td>\n      <td>362.21</td>\n    </tr>\n    <tr>\n      <th>NOx</th>\n      <td>25346.0</td>\n      <td>32.309123</td>\n      <td>31.646011</td>\n      <td>0.00</td>\n      <td>12.820</td>\n      <td>23.52</td>\n      <td>40.1275</td>\n      <td>467.63</td>\n    </tr>\n    <tr>\n      <th>NH3</th>\n      <td>19203.0</td>\n      <td>23.483476</td>\n      <td>25.684275</td>\n      <td>0.01</td>\n      <td>8.580</td>\n      <td>15.85</td>\n      <td>30.0200</td>\n      <td>352.89</td>\n    </tr>\n    <tr>\n      <th>CO</th>\n      <td>27472.0</td>\n      <td>2.248598</td>\n      <td>6.962884</td>\n      <td>0.00</td>\n      <td>0.510</td>\n      <td>0.89</td>\n      <td>1.4500</td>\n      <td>175.81</td>\n    </tr>\n    <tr>\n      <th>SO2</th>\n      <td>25677.0</td>\n      <td>14.531977</td>\n      <td>18.133775</td>\n      <td>0.01</td>\n      <td>5.670</td>\n      <td>9.16</td>\n      <td>15.2200</td>\n      <td>193.86</td>\n    </tr>\n    <tr>\n      <th>O3</th>\n      <td>25509.0</td>\n      <td>34.491430</td>\n      <td>21.694928</td>\n      <td>0.01</td>\n      <td>18.860</td>\n      <td>30.84</td>\n      <td>45.5700</td>\n      <td>257.73</td>\n    </tr>\n    <tr>\n      <th>Benzene</th>\n      <td>23908.0</td>\n      <td>3.280840</td>\n      <td>15.811136</td>\n      <td>0.00</td>\n      <td>0.120</td>\n      <td>1.07</td>\n      <td>3.0800</td>\n      <td>455.03</td>\n    </tr>\n    <tr>\n      <th>Toluene</th>\n      <td>21490.0</td>\n      <td>8.700972</td>\n      <td>19.969164</td>\n      <td>0.00</td>\n      <td>0.600</td>\n      <td>2.97</td>\n      <td>9.1500</td>\n      <td>454.85</td>\n    </tr>\n    <tr>\n      <th>Xylene</th>\n      <td>11422.0</td>\n      <td>3.070128</td>\n      <td>6.323247</td>\n      <td>0.00</td>\n      <td>0.140</td>\n      <td>0.98</td>\n      <td>3.3500</td>\n      <td>170.37</td>\n    </tr>\n    <tr>\n      <th>AQI</th>\n      <td>24850.0</td>\n      <td>166.463581</td>\n      <td>140.696585</td>\n      <td>13.00</td>\n      <td>81.000</td>\n      <td>118.00</td>\n      <td>208.0000</td>\n      <td>2049.00</td>\n    </tr>\n  </tbody>\n</table>\n</div>"
          },
          "metadata": {}
        }
      ],
      "execution_count": 14
    },
    {
      "id": "b35f7f8f-6f0f-4622-88ab-02248ddabaa1",
      "cell_type": "code",
      "source": "# Percentage of the null values\nnull_values_percentage = (df.isnull().sum()/df.isnull().count()*100).sort_values(ascending=False)\nnull_values_percentage",
      "metadata": {
        "trusted": true,
        "scrolled": true
      },
      "outputs": [
        {
          "execution_count": 15,
          "output_type": "execute_result",
          "data": {
            "text/plain": "Xylene        61.322001\nPM10          37.723071\nNH3           34.973418\nToluene       27.229014\nBenzene       19.041008\nAQI           15.851139\nAQI_Bucket    15.851139\nPM2.5         15.570079\nNOx           14.171549\nO3            13.619586\nSO2           13.050692\nNO2           12.139785\nNO            12.129626\nCO             6.972334\nCity           0.000000\nDate           0.000000\ndtype: float64"
          },
          "metadata": {}
        }
      ],
      "execution_count": 15
    },
    {
      "id": "45f19338-484e-4aa0-b9a7-3eab64cfda9c",
      "cell_type": "markdown",
      "source": "#### Key Considerations:\n-Xylene has the highest percentage of missing values - 61.32%\n-PM10 and NH3 37 - 34 %",
      "metadata": {}
    },
    {
      "id": "2fa786d2-8b12-45cb-8272-6e8bae787dc8",
      "cell_type": "code",
      "source": "",
      "metadata": {
        "trusted": true
      },
      "outputs": [],
      "execution_count": null
    },
    {
      "id": "b0ab6e63-bcca-4d50-b64d-a23789ae0819",
      "cell_type": "code",
      "source": "",
      "metadata": {
        "trusted": true
      },
      "outputs": [],
      "execution_count": null
    }
  ]
}